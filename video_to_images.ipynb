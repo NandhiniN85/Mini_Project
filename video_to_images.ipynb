{
 "cells": [
  {
   "cell_type": "code",
   "execution_count": 3,
   "metadata": {
    "id": "6VKKmZV1az9W"
   },
   "outputs": [],
   "source": [
    "import os\n",
    "import cv2"
   ]
  },
  {
   "cell_type": "code",
   "execution_count": 23,
   "metadata": {
    "colab": {
     "base_uri": "https://localhost:8080/"
    },
    "id": "9dCNojyka40k",
    "outputId": "1c548df5-bb50-4508-f73c-d90bad5467c7"
   },
   "outputs": [],
   "source": [
    "#providing the name of the file\n",
    "list1 = ['production ID_4009906.mp4'\n",
    "]"
   ]
  },
  {
   "cell_type": "code",
   "execution_count": 24,
   "metadata": {},
   "outputs": [
    {
     "data": {
      "text/plain": [
       "'C:\\\\Users\\\\91965\\\\Desktop\\\\mini_project'"
      ]
     },
     "execution_count": 24,
     "metadata": {},
     "output_type": "execute_result"
    }
   ],
   "source": [
    "os.getcwd()"
   ]
  },
  {
   "cell_type": "code",
   "execution_count": 25,
   "metadata": {},
   "outputs": [],
   "source": [
    "#creating a folder called video1 under the main folder\n",
    "directory = 'video1'\n",
    "path = 'C:\\\\Users\\\\91965\\\\Desktop\\\\mini_project'\n",
    "new_path = os.path.join(path, directory)\n",
    "os.mkdir(new_path)"
   ]
  },
  {
   "cell_type": "code",
   "execution_count": 28,
   "metadata": {
    "colab": {
     "base_uri": "https://localhost:8080/",
     "height": 270
    },
    "id": "grciAD0XbAv4",
    "outputId": "60444fa2-e1fb-4642-c578-ea54e0ece991"
   },
   "outputs": [
    {
     "name": "stdout",
     "output_type": "stream",
     "text": [
      "production ID_4009906.mp4\n"
     ]
    }
   ],
   "source": [
    "count = 1\n",
    "for i in list1:    \n",
    "#reading the video from parent directory\n",
    "    os.chdir('C:\\\\Users\\\\91965\\\\Desktop\\\\mini_project')    \n",
    "    vidcap = cv2.VideoCapture(i)\n",
    "  \n",
    "    count1 = 0\n",
    "    success = True\n",
    "    print(i)\n",
    "    \n",
    "    while success:   \n",
    "        directory = 'video' + str(count)\n",
    "        parent_dir = 'C:\\\\Users\\\\91965\\\\Desktop\\\\mini_project'\n",
    "        path = os.path.join(parent_dir, directory)\n",
    "        os.chdir(path)\n",
    "        \n",
    "        ret,image = vidcap.read()\n",
    "                \n",
    "        if ret == False:                    \n",
    "           break\n",
    "        cv2.imwrite(directory+\"_frame%d.PNG\" % count1, image) \n",
    "        count1 += 1   "
   ]
  },
  {
   "cell_type": "code",
   "execution_count": null,
   "metadata": {},
   "outputs": [],
   "source": []
  }
 ],
 "metadata": {
  "colab": {
   "collapsed_sections": [],
   "name": "video_to_images.ipynb",
   "provenance": []
  },
  "kernelspec": {
   "display_name": "Python 3",
   "language": "python",
   "name": "python3"
  },
  "language_info": {
   "codemirror_mode": {
    "name": "ipython",
    "version": 3
   },
   "file_extension": ".py",
   "mimetype": "text/x-python",
   "name": "python",
   "nbconvert_exporter": "python",
   "pygments_lexer": "ipython3",
   "version": "3.7.6"
  }
 },
 "nbformat": 4,
 "nbformat_minor": 1
}
